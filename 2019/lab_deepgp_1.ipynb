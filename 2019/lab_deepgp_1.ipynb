{
 "cells": [
  {
   "cell_type": "markdown",
   "metadata": {},
   "source": [
    "# Lab 2 Extra: Deep Gaussian Processes\n",
    "### Gaussian Process Summer School 2019\n",
    "In this extra lab, we introduce practical use of _deep Gaussian processes_, expanding on the talk given this morning.\n",
    "\n",
    "The level of this notebook is aimed as an introduction to deep GPs, but will assume some familiarity of topics from labs 1 and 2, including regression and using inducing variables for scalable inference.\n",
    "\n",
    "This notebook makes use of [`PyDeepGP`](https://github.com/SheffieldML/PyDeepGP)."
   ]
  },
  {
   "cell_type": "markdown",
   "metadata": {},
   "source": [
    "## 1. Getting started\n",
    "\n",
    "Make sure that you have the appropriate packages installed, including `PyDeepGP`: you can review the [Getting Started](https://gpss.cc/gpss19/getting_started/) page for detailed instructions.\n",
    "\n",
    "First, we will setup the notebook with libraries we are going to use. As in previous labs, we will use `GPy`."
   ]
  },
  {
   "cell_type": "code",
   "execution_count": 1,
   "metadata": {},
   "outputs": [],
   "source": [
    "# Support for maths\n",
    "import numpy as np\n",
    "# Plotting tools\n",
    "from matplotlib import pyplot as plt\n",
    "# we use the following for plotting figures in jupyter\n",
    "%matplotlib inline\n",
    "\n",
    "import warnings\n",
    "warnings.filterwarnings('ignore')\n",
    "\n",
    "# GPy: Gaussian processes library\n",
    "import GPy\n",
    "\n",
    "# PyDeepGP: Deep Gaussian processes\n",
    "import deepgp"
   ]
  },
  {
   "cell_type": "markdown",
   "metadata": {},
   "source": [
    "### Recap: Gaussian Process Regression\n",
    "\n",
    "Recall, from Lab 2, the data for the winners of the Olympic men's marathon. We will use this again to highlight limitations with standard GPs and demonstrate how we can make use of deep GPs for such a problem."
   ]
  },
  {
   "cell_type": "code",
   "execution_count": 2,
   "metadata": {},
   "outputs": [],
   "source": [
    "import pickle\n",
    "with open(\"../.resources/olympic_marathon_men\", \"rb\") as fid:\n",
    "    data = pickle.load(fid)\n",
    "\n",
    "X, y = data['X'], data['Y'] # X represents the year, and y are the average pace of the winner"
   ]
  },
  {
   "cell_type": "code",
   "execution_count": 3,
   "metadata": {},
   "outputs": [
    {
     "data": {
      "image/png": "[encoded data removed]",
      "text/plain": [
       "<Figure size 1008x432 with 1 Axes>"
      ]
     },
     "metadata": {
      "needs_background": "light"
     },
     "output_type": "display_data"
    }
   ],
   "source": [
    "# Set up our plotting environment\n",
    "plt.figure(figsize=(14, 6))\n",
    "\n",
    "# Plot the training data, the results of the gold medal winning time for the Olympic men's marathon\n",
    "plt.plot(X, y, \"kx\", mew=2)\n",
    "\n",
    "# Annotate plot\n",
    "plt.legend(labels=[\"winning time\"]), plt.xlim((1890, 2018))\n",
    "plt.xlabel(\"year\"), plt.ylabel(\"pace (minutes per kilometer)\")\n",
    "plt.title(\"Olympic men's marathon gold medal winning times from 1896 to 2012\");"
   ]
  },
  {
   "cell_type": "markdown",
   "metadata": {},
   "source": [
    "By now, you should be familiar with fitting a GP using `GPy`. We will fit a standard `RBF` kernel. Note that we are using a Gaussian likelihood, and have a constant mean for our GP (to be optimised)."
   ]
  },
  {
   "cell_type": "code",
   "execution_count": 4,
   "metadata": {},
   "outputs": [
    {
     "data": {
      "text/html": [
       "<style type=\"text/css\">\n",
       ".pd{\n",
       "    font-family: \"Courier New\", Courier, monospace !important;\n",
       "    width: 100%;\n",
       "    padding: 3px;\n",
       "}\n",
       "</style>\n",
       "\n",
       "<p class=pd>\n",
       "<b>Model</b>: GP regression<br>\n",
       "<b>Objective</b>: 4.785438859622699<br>\n",
       "<b>Number of Parameters</b>: 4<br>\n",
       "<b>Number of Optimization Parameters</b>: 4<br>\n",
       "<b>Updates</b>: True<br>\n",
       "</p>\n",
       "<style type=\"text/css\">\n",
       ".tg  {font-family:\"Courier New\", Courier, monospace !important;padding:2px 3px;word-break:normal;border-collapse:collapse;border-spacing:0;border-color:#DCDCDC;margin:0px auto;width:100%;}\n",
       ".tg td{font-family:\"Courier New\", Courier, monospace !important;font-weight:bold;color:#444;background-color:#F7FDFA;border-style:solid;border-width:1px;overflow:hidden;word-break:normal;border-color:#DCDCDC;}\n",
       ".tg th{font-family:\"Courier New\", Courier, monospace !important;font-weight:normal;color:#fff;background-color:#26ADE4;border-style:solid;border-width:1px;overflow:hidden;word-break:normal;border-color:#DCDCDC;}\n",
       ".tg .tg-left{font-family:\"Courier New\", Courier, monospace !important;font-weight:normal;text-align:left;}\n",
       ".tg .tg-center{font-family:\"Courier New\", Courier, monospace !important;font-weight:normal;text-align:center;}\n",
       ".tg .tg-right{font-family:\"Courier New\", Courier, monospace !important;font-weight:normal;text-align:right;}\n",
       "</style>\n",
       "<table class=\"tg\"><tr><th><b>  GP_regression.         </b></th><th><b>              value</b></th><th><b>constraints</b></th><th><b>priors</b></th></tr>\n",
       "<tr><td class=tg-left>  constmap.C             </td><td class=tg-right> 3.5882415421063603</td><td class=tg-center>           </td><td class=tg-center>      </td></tr>\n",
       "<tr><td class=tg-left>  rbf.variance           </td><td class=tg-right> 0.2796060152640817</td><td class=tg-center>    +ve    </td><td class=tg-center>      </td></tr>\n",
       "<tr><td class=tg-left>  rbf.lengthscale        </td><td class=tg-right> 20.797074162385723</td><td class=tg-center>    +ve    </td><td class=tg-center>      </td></tr>\n",
       "<tr><td class=tg-left>  Gaussian_noise.variance</td><td class=tg-right>0.04190680752642987</td><td class=tg-center>    +ve    </td><td class=tg-center>      </td></tr>\n",
       "</table>"
      ],
      "text/plain": [
       "<GPy.models.gp_regression.GPRegression at 0x1962980ee80>"
      ]
     },
     "metadata": {},
     "output_type": "display_data"
    }
   ],
   "source": [
    "m_full = GPy.models.GPRegression(\n",
    "    X, y,\n",
    "    mean_function=GPy.mappings.Constant(1,1),\n",
    "    kernel=GPy.kern.RBF(1)\n",
    ")\n",
    "\n",
    "m_full.optimize(messages=False)\n",
    "display(m_full)"
   ]
  },
  {
   "cell_type": "markdown",
   "metadata": {},
   "source": [
    "This is utility code from previous labs, adapted slightly so that it will work with deep GPs as well"
   ]
  },
  {
   "cell_type": "code",
   "execution_count": 5,
   "metadata": {},
   "outputs": [],
   "source": [
    "def plot_gp(model, X, training_points=False):\n",
    "    \"\"\" Plotting utility to plot a GP fit with 95% confidence interval \"\"\"\n",
    "    # Plot 95% confidence interval \n",
    "    m, _ = model.predict(X)\n",
    "    lci, uci = model.predict_quantiles(\n",
    "        X,\n",
    "        (2.5, 97.5)\n",
    "    )\n",
    "    plt.fill_between(X[:,0], lci[:,0], uci[:,0], alpha=0.5)\n",
    "    \n",
    "    # Plot GP mean and initial training points\n",
    "    plt.plot(X, m, \"-\")\n",
    "    plt.legend(labels=[\"GP fit\"])\n",
    "    \n",
    "    plt.xlabel(\"x\"), plt.ylabel(\"f\")\n",
    "    \n",
    "    # Plot training points if included\n",
    "    if training_points:\n",
    "        X_, Y_ = model.X, model.Y\n",
    "        plt.plot(X_, Y_, \"kx\", mew=2)\n",
    "        plt.legend(labels=[\"GP fit\", \"sample points\"])"
   ]
  },
  {
   "cell_type": "markdown",
   "metadata": {},
   "source": [
    "We can see that plotting the GP, we struggle to handle the outlier, giving an suboptimial fit."
   ]
  },
  {
   "cell_type": "code",
   "execution_count": 6,
   "metadata": {},
   "outputs": [
    {
     "data": {
      "image/png": "[encoded data removed]",
      "text/plain": [
       "<Figure size 1008x432 with 1 Axes>"
      ]
     },
     "metadata": {
      "needs_background": "light"
     },
     "output_type": "display_data"
    }
   ],
   "source": [
    "Xnew = np.arange(1890,2019)[:, None] # predict winning pace every year between 1890 and 2018\n",
    "\n",
    "plt.figure(figsize=(14,6))\n",
    "# Plot the GP prediction of the latent function with training points\n",
    "plot_gp(m_full, Xnew, training_points=True)\n",
    "# Annotate plot\n",
    "plt.xlabel(\"year\"), plt.ylabel(\"pace (minutes per kilometer)\")\n",
    "plt.title(\"Exact GP fit of latent function $f$ describing marathon pace in min/km, assuming a Gaussian likelihood\");"
   ]
  },
  {
   "cell_type": "markdown",
   "metadata": {},
   "source": [
    "## 2. Deep GP Regression\n",
    "\n",
    "As we have seen before, the GP struggles to fit to the observations due to the presence of the outlier in 1904. Previously, in Lab 2, we modelled this with a non-Gaussian likelihood to give a heavy-tailed output using a Student's T-distribution. An alternative way to deal with the non-Gaussian is to construct a hierarchical model: a deep GP with two layers.\n",
    "\n",
    "$$\n",
    "    y = f_1(f_2(x)),\\quad \\mathrm{where}\\ f_1\\sim \\mathcal{GP}\\ \\mathrm{and}\\ f_2 \\sim \\mathcal{GP}\n",
    "$$\n",
    "\n",
    "We are essentially constructing the function, \n",
    "$$f : \\mathbf{x} \\underset{f_2}{\\mapsto} \\mathbf{z} \\underset{f_1}{\\mapsto}y,$$\n",
    "where $\\mathbf{z}$ is a latent variable in the hierarchical model. We can refer to $\\mathbf{z}$ as a 'layer' in a deep model."
   ]
  },
  {
   "cell_type": "markdown",
   "metadata": {},
   "source": [
    "We will no construct our deep GP using `pyDeepGP`. We have one hidden variable (or layer), and will initialise our latent representations with principle component analysis (PCA).\n",
    "\n",
    "For simplicity, we use the Gaussian RBF kernel for each layer, and have 1-D latent variables."
   ]
  },
  {
   "cell_type": "code",
   "execution_count": 7,
   "metadata": {},
   "outputs": [],
   "source": [
    "num_hidden = 1\n",
    "latent_dim = 1\n",
    "\n",
    "kernels = [*[GPy.kern.RBF(latent_dim, ARD=True)]*num_hidden] # hidden kernels\n",
    "kernels.append(GPy.kern.RBF(X.shape[1])) # we append a kernel for the input layer\n",
    "\n",
    "m_deep = deepgp.DeepGP(\n",
    "    # this describes the shapes of the inputs and outputs of our latent GPs\n",
    "    [y.shape[1], *[latent_dim]*num_hidden, X.shape[1]],\n",
    "    X = X, # training input\n",
    "    Y = y, # training outout\n",
    "    inits = [*['PCA']*num_hidden, 'PCA'], # initialise layers\n",
    "    kernels = kernels,\n",
    "    num_inducing = 50,\n",
    "    back_constraint = False\n",
    ")"
   ]
  },
  {
   "cell_type": "code",
   "execution_count": 8,
   "metadata": {},
   "outputs": [
    {
     "data": {
      "text/html": [
       "<style type=\"text/css\">\n",
       ".pd{\n",
       "    font-family: \"Courier New\", Courier, monospace !important;\n",
       "    width: 100%;\n",
       "    padding: 3px;\n",
       "}\n",
       "</style>\n",
       "\n",
       "<p class=pd>\n",
       "<b>Model</b>: deepgp<br>\n",
       "<b>Objective</b>: 101.06452538346579<br>\n",
       "<b>Number of Parameters</b>: 260<br>\n",
       "<b>Number of Optimization Parameters</b>: 260<br>\n",
       "<b>Updates</b>: True<br>\n",
       "</p>\n",
       "<style type=\"text/css\">\n",
       ".tg  {font-family:\"Courier New\", Courier, monospace !important;padding:2px 3px;word-break:normal;border-collapse:collapse;border-spacing:0;border-color:#DCDCDC;margin:0px auto;width:100%;}\n",
       ".tg td{font-family:\"Courier New\", Courier, monospace !important;font-weight:bold;color:#444;background-color:#F7FDFA;border-style:solid;border-width:1px;overflow:hidden;word-break:normal;border-color:#DCDCDC;}\n",
       ".tg th{font-family:\"Courier New\", Courier, monospace !important;font-weight:normal;color:#fff;background-color:#26ADE4;border-style:solid;border-width:1px;overflow:hidden;word-break:normal;border-color:#DCDCDC;}\n",
       ".tg .tg-left{font-family:\"Courier New\", Courier, monospace !important;font-weight:normal;text-align:left;}\n",
       ".tg .tg-center{font-family:\"Courier New\", Courier, monospace !important;font-weight:normal;text-align:center;}\n",
       ".tg .tg-right{font-family:\"Courier New\", Courier, monospace !important;font-weight:normal;text-align:right;}\n",
       "</style>\n",
       "<table class=\"tg\"><tr><th><b>  deepgp.                         </b></th><th><b>  value</b></th><th><b>constraints</b></th><th><b>priors</b></th></tr>\n",
       "<tr><td class=tg-left>  obslayer.inducing inputs        </td><td class=tg-right>(50, 1)</td><td class=tg-center>           </td><td class=tg-center>      </td></tr>\n",
       "<tr><td class=tg-left>  obslayer.rbf.variance           </td><td class=tg-right>    1.0</td><td class=tg-center>    +ve    </td><td class=tg-center>      </td></tr>\n",
       "<tr><td class=tg-left>  obslayer.rbf.lengthscale        </td><td class=tg-right>    1.0</td><td class=tg-center>    +ve    </td><td class=tg-center>      </td></tr>\n",
       "<tr><td class=tg-left>  obslayer.Gaussian_noise.variance</td><td class=tg-right>    1.0</td><td class=tg-center>    +ve    </td><td class=tg-center>      </td></tr>\n",
       "<tr><td class=tg-left>  obslayer.Kuu_var                </td><td class=tg-right>  (50,)</td><td class=tg-center>    +ve    </td><td class=tg-center>      </td></tr>\n",
       "<tr><td class=tg-left>  obslayer.latent space.mean      </td><td class=tg-right>(27, 1)</td><td class=tg-center>           </td><td class=tg-center>      </td></tr>\n",
       "<tr><td class=tg-left>  obslayer.latent space.variance  </td><td class=tg-right>(27, 1)</td><td class=tg-center>    +ve    </td><td class=tg-center>      </td></tr>\n",
       "<tr><td class=tg-left>  layer_1.inducing inputs         </td><td class=tg-right>(50, 1)</td><td class=tg-center>           </td><td class=tg-center>      </td></tr>\n",
       "<tr><td class=tg-left>  layer_1.rbf.variance            </td><td class=tg-right>    1.0</td><td class=tg-center>    +ve    </td><td class=tg-center>      </td></tr>\n",
       "<tr><td class=tg-left>  layer_1.rbf.lengthscale         </td><td class=tg-right>    1.0</td><td class=tg-center>    +ve    </td><td class=tg-center>      </td></tr>\n",
       "<tr><td class=tg-left>  layer_1.Gaussian_noise.variance </td><td class=tg-right>   0.01</td><td class=tg-center>    +ve    </td><td class=tg-center>      </td></tr>\n",
       "<tr><td class=tg-left>  layer_1.Kuu_var                 </td><td class=tg-right>  (50,)</td><td class=tg-center>    +ve    </td><td class=tg-center>      </td></tr>\n",
       "</table>"
      ],
      "text/plain": [
       "<deepgp.models.model.DeepGP at 0x196297f07f0>"
      ]
     },
     "metadata": {},
     "output_type": "display_data"
    }
   ],
   "source": [
    "m_deep.initialize_parameter()\n",
    "display(m_deep)"
   ]
  },
  {
   "cell_type": "markdown",
   "metadata": {},
   "source": [
    "### Optimising a Deep GP\n",
    "\n",
    "Reflecting on the defined model, we can see that we have $260$ parameters to optimise, including kernel and likelihood hyperparameters and inducing inputs and variables for each layer, as well as the latent parameters.\n",
    "\n",
    "You may find that running the optimisation as is will cause a collapse of the Gaussian noise in each layer, causing failure of the optimiser. In the next cell, we construct a utility function to reset the variance to $1.0$ to try and avoid this:"
   ]
  },
  {
   "cell_type": "code",
   "execution_count": null,
   "metadata": {},
   "outputs": [],
   "source": [
    "def optimise_dgp(model, messages=True):\n",
    "    ''' Utility function for optimising deep GP by first\n",
    "        reinitiailising the Gaussian noise at each layer\n",
    "        (for reasons pertaining to stability)\n",
    "    '''\n",
    "    model.initialize_parameter()\n",
    "    for layer in model.layers:\n",
    "        layer.likelihood.variance.constrain_positive(warning=False)\n",
    "        layer.likelihood.variance = 1. # small variance may cause collapse\n",
    "    model.optimize(messages=messages, max_iters=10000)"
   ]
  },
  {
   "cell_type": "markdown",
   "metadata": {},
   "source": [
    "Now, let's try optimising the deep GP. You may find that the optimisation fails with status `Errorb'ABNORMAL_TERMINATION_IN_LNSRCH`: just try rerunning the cell."
   ]
  },
  {
   "cell_type": "code",
   "execution_count": null,
   "metadata": {},
   "outputs": [],
   "source": [
    "optimise_dgp(m_deep, messages=True)"
   ]
  },
  {
   "cell_type": "markdown",
   "metadata": {},
   "source": [
    "We can plot our deep GP in the same fit as before, by calling `predict()` and `predict_quantiles()` to obtain a moments and quantiles from the optimised deep GP in the observation domain:"
   ]
  },
  {
   "cell_type": "code",
   "execution_count": null,
   "metadata": {},
   "outputs": [],
   "source": [
    "Xnew = np.arange(1890,2019)[:, None] # predict winning pace every year between 1890 and 2018\n",
    "\n",
    "plt.figure(figsize=(14,6))\n",
    "\n",
    "# Plot the our deep GP prediction\n",
    "plot_gp(m_deep, Xnew, training_points=True)\n",
    "\n",
    "# Annotate plot\n",
    "plt.xlabel(\"year\"), plt.ylabel(\"pace (minutes per kilometer)\")\n",
    "plt.title(\"Deep GP with %d hidden layer(s) fit describing marathon pace in min/km\" % num_hidden);"
   ]
  },
  {
   "cell_type": "markdown",
   "metadata": {},
   "source": [
    "### Visualising Mappings\n",
    "\n",
    "As we can see, the deep GP performs much better than the standard GP fit. We may also find it interesting to look at both the individual functions mapping between layers.\n",
    "\n",
    "We can visualise the latent mappings by propagating the input through layers -- since each output is multivariate Gaussian by virtue of the mappings being GPs, we can plot the uncertainty of the latent functions at each layer."
   ]
  },
  {
   "cell_type": "code",
   "execution_count": null,
   "metadata": {},
   "outputs": [],
   "source": [
    "def plot_dgp_layers(model, X, training_points=True, axsize=(14,6)):\n",
    "    ''' Plot mappings between layers in a deep GP '''\n",
    "    if not isinstance(model, deepgp.DeepGP):\n",
    "        return plot_gp(model, X) # catch a batch GP\n",
    "\n",
    "    num_layers  = len(model.layers) # Get number of layers\n",
    "    layer_input = X # The first input\n",
    "    \n",
    "    _, axs = plt.subplots(num_layers, 1, figsize=(axsize[0], axsize[1]*num_layers))\n",
    "    \n",
    "    # The layers in a deep GP are ordered from observation to input,\n",
    "    # ... we will plot them from input to output, so reverse the layers\n",
    "    layers = list(reversed(model.layers))\n",
    "    for i, layer in enumerate(layers):\n",
    "        # We get the mean and confidence intervals of the layer\n",
    "        mu_i, _ = layer.predict(layer_input, include_likelihood=False)\n",
    "        lci_i, uci_i = layer.predict_quantiles(layer_input, (2.5, 97.5))\n",
    "        # Plot mean and 95% CI of latent function\n",
    "        axs[i].plot(layer_input, mu_i)\n",
    "        axs[i].fill_between(layer_input[:,0], lci_i[:,0], uci_i[:,0], alpha=0.5)\n",
    "        # Annotate plot\n",
    "        axs[i].set_ylabel(layer.name)\n",
    "        axs[i].set_xlabel(layers[i-1].name if i > 0 else \"input\")\n",
    "        axs[i].set_title(\"$f_%d$\" % (num_layers-i))\n",
    "        # Set mean as input for next layer\n",
    "        layer_input = np.linspace(*min(lci_i), *max(uci_i), num=100)[:,None]\n",
    "        \n",
    "        if training_points: # Plot propagated training points\n",
    "            axs[i].plot(\n",
    "                layer.X.mean.values if i > 0 else layer.X,\n",
    "                layer.Y.mean.values if i < num_layers-1 else layer.Y,\n",
    "                'kx', mew=2\n",
    "            )"
   ]
  },
  {
   "cell_type": "markdown",
   "metadata": {},
   "source": [
    "We now plot our two GPs that form the hierarchical (deep) GP. The first maps the input domain to the first latent space, and the second maps from that latent space into space of our observation model.\n",
    "\n",
    "$$y = f_1(f_2(x))$$"
   ]
  },
  {
   "cell_type": "code",
   "execution_count": null,
   "metadata": {
    "scrolled": false
   },
   "outputs": [],
   "source": [
    "plot_dgp_layers(m_deep, Xnew, training_points=True, axsize=(14, 6))"
   ]
  },
  {
   "cell_type": "markdown",
   "metadata": {},
   "source": [
    "### Sampling\n",
    "\n",
    "As with all models, we might want to sample from the posterior. We can do this with the mean and covariance of our GP layers, and use these to create random samples -- by the nature of the model, each sample from the first layer forms the input to the second. You can see the code to perform this below:"
   ]
  },
  {
   "cell_type": "code",
   "execution_count": null,
   "metadata": {},
   "outputs": [],
   "source": [
    "def sample_dgp(model, X, num_samples=1, include_likelihood=True):\n",
    "    ''' Sample from a hierarchical GP by propagating\n",
    "        samples through layers\n",
    "    '''\n",
    "    samples = []\n",
    "    jitter = 1e-5\n",
    "    count, num_tries = 0, 100\n",
    "    while len(samples) < num_samples:\n",
    "        next_input = X\n",
    "        if count > num_tries:\n",
    "            print(\"failed to sample\")\n",
    "            break\n",
    "        try:\n",
    "            count = count + 1\n",
    "            for layer in reversed(model.layers):\n",
    "                mu_k, sig_k = layer.predict(\n",
    "                    next_input, full_cov=True, include_likelihood=include_likelihood\n",
    "                )\n",
    "                sample_k = mu_k + np.linalg.cholesky(sig_k + jitter*np.eye(X.shape[0]))@np.random.randn(*X.shape)\n",
    "                next_input = sample_k\n",
    "            samples.append(sample_k)\n",
    "            count = 0\n",
    "        except:\n",
    "            pass\n",
    "        \n",
    "    return samples if num_samples > 1 else samples[0]"
   ]
  },
  {
   "cell_type": "code",
   "execution_count": null,
   "metadata": {
    "scrolled": false
   },
   "outputs": [],
   "source": [
    "_, axs = plt.subplots(2,1, figsize=(14,12))\n",
    "\n",
    "samples = sample_dgp(m_deep, Xnew, 10, include_likelihood=True)\n",
    "for sample in samples:\n",
    "    axs[0].plot(Xnew, sample, 'go', alpha=0.2)\n",
    "axs[0].plot(X, y, 'kx', mew=2)\n",
    "axs[0].set_title(\"observable samples\")\n",
    "\n",
    "samples = sample_dgp(m_deep, Xnew, 100, include_likelihood=False)\n",
    "for sample in samples:\n",
    "    axs[1].plot(Xnew, sample, 'g-', alpha=0.1)\n",
    "axs[1].plot(X, y, 'kx', mew=2)\n",
    "axs[1].set_title(\"latent samples\")\n",
    "\n",
    "[(ax.set_xlabel(\"year\"), ax.set_ylabel(\"pace (minutes per kilometer)\")) for ax in axs];"
   ]
  },
  {
   "cell_type": "markdown",
   "metadata": {},
   "source": [
    "### Exercise:\n",
    "\n",
    "Now you have seen how we can fit a deep GP to data, and sample from the posterior. "
   ]
  },
  {
   "cell_type": "code",
   "execution_count": null,
   "metadata": {},
   "outputs": [],
   "source": [
    "def gp_prior_sample(x, kern=GPy.kern.RBF):\n",
    "    ''' '''\n",
    "    if not isinstance(kern, GPy.kern.Kern):\n",
    "        kern = kern(x.shape[1], ARD=True)\n",
    "    mu = np.zeros((x.shape[0]))\n",
    "    C  = kern.K(x,x)\n",
    "    return np.random.multivariate_normal(mu, C, 1).T\n",
    "\n",
    "def deepgp_prior_sample(x, kernels=[GPy.kern.RBF]):\n",
    "    ''' Sample from hierarchical model: f = f1(f2(...fn(x)))\n",
    "           where fi ~ GP(0,Ki) and Ki = kernels[i].K\n",
    "    '''\n",
    "    z = x\n",
    "    for kern in reversed(kernels):\n",
    "        z = gp_prior_sample(z, kern=kern)\n",
    "    return z"
   ]
  },
  {
   "cell_type": "code",
   "execution_count": null,
   "metadata": {},
   "outputs": [],
   "source": [
    "kernels = [\n",
    "    GPy.kern.RBF(1, lengthscale=0.2),\n",
    "    GPy.kern.RBF(1, variance=0.1, lengthscale=0.5),\n",
    "    GPy.kern.RBF(1, lengthscale=0.1)\n",
    "]\n",
    "\n",
    "Xnew  = np.linspace(0., 1., num=1000)[:,None]\n",
    "\n",
    "np.random.seed(458)\n",
    "f  = deepgp_prior_sample(Xnew, kernels=kernels) #f1(f2(f3(Xnew)))\n",
    "X  = Xnew[::10]\n",
    "y  = f[::10] + 0.1*np.random.randn(*X.shape)"
   ]
  },
  {
   "cell_type": "code",
   "execution_count": null,
   "metadata": {},
   "outputs": [],
   "source": [
    "plt.figure(figsize=(14,6))\n",
    "plt.plot(Xnew, f,'-', X, y, 'k.')\n",
    "plt.xlabel('x'), plt.ylabel('y'), plt.legend(labels=['latent sample','observations']);"
   ]
  },
  {
   "cell_type": "code",
   "execution_count": null,
   "metadata": {},
   "outputs": [],
   "source": [
    "num_hidden = len(kernels) - 1\n",
    "latent_dim = 1\n",
    "\n",
    "m_deep = deepgp.DeepGP(\n",
    "    # this describes the shapes of the inputs and outputs of our latent GPs\n",
    "    [y.shape[1], *[latent_dim]*num_hidden, X.shape[1]],\n",
    "    X = X, # training input\n",
    "    Y = y, # training outout\n",
    "    inits = [*['PCA']*num_hidden, 'PCA'], # initialise layers\n",
    "    kernels = kernels,\n",
    "    num_inducing = 100,\n",
    "    back_constraint = False\n",
    ")\n",
    "\n",
    "optimise_dgp(m_deep)"
   ]
  },
  {
   "cell_type": "code",
   "execution_count": null,
   "metadata": {},
   "outputs": [],
   "source": [
    "plt.figure(figsize=(14,6))\n",
    "plot_gp(m_deep, Xnew, training_points=True)\n",
    "plt.title(\"deep gp fit\")\n",
    "\n",
    "plot_dgp_layers(m_deep, Xnew)"
   ]
  },
  {
   "cell_type": "markdown",
   "metadata": {},
   "source": [
    "## 3. Approximating Discontinuities"
   ]
  },
  {
   "cell_type": "code",
   "execution_count": null,
   "metadata": {},
   "outputs": [],
   "source": [
    "def overlapping_rect(scale=1.):\n",
    "    x = np.linspace(0., 1., 400)\n",
    "    y = np.hstack([np.zeros(100), np.random.choice([0., 1.], size=(50,)), np.ones(100), np.random.choice([0., 1.], size=(50,)), np.zeros(100)])\n",
    "    return x[:,None], scale*y[:,None]"
   ]
  },
  {
   "cell_type": "code",
   "execution_count": null,
   "metadata": {},
   "outputs": [],
   "source": [
    "X, y = overlapping_rect()\n",
    "plt.figure(figsize=(14, 6))\n",
    "plt.plot(X, y, 'kx', alpha=0.5);"
   ]
  },
  {
   "cell_type": "code",
   "execution_count": null,
   "metadata": {},
   "outputs": [],
   "source": [
    "m_full = GPy.models.GPRegression(X, y, kernel=GPy.kern.RBF(1))\n",
    "m_full.optimize()\n",
    "display(m_full)"
   ]
  },
  {
   "cell_type": "code",
   "execution_count": null,
   "metadata": {},
   "outputs": [],
   "source": [
    "Xnew = np.linspace(-0.2, 1.2, num=500)[:,None]\n",
    "plt.figure(figsize=(14,6))\n",
    "plot_gp(m_full, Xnew, training_points=True)"
   ]
  },
  {
   "cell_type": "code",
   "execution_count": null,
   "metadata": {},
   "outputs": [],
   "source": [
    "num_hidden = 2\n",
    "\n",
    "m_deep = deepgp.DeepGP(\n",
    "    [y.shape[1], *[1]*num_hidden, X.shape[1]],\n",
    "    X = X,\n",
    "    Y = y,\n",
    "    init = [*['PCA']*num_hidden, 'PCA'],\n",
    "    kernels = [*[GPy.kern.RBF(1, ARD=True)]*num_hidden, GPy.kern.RBF(1)],\n",
    "    num_inducing = 50,\n",
    "    back_constraint=False\n",
    ")\n",
    "optimise_dgp(m_deep)"
   ]
  },
  {
   "cell_type": "code",
   "execution_count": null,
   "metadata": {},
   "outputs": [],
   "source": [
    "plt.figure(figsize=(14,6))\n",
    "plot_gp(m_deep, Xnew, training_points=True)"
   ]
  },
  {
   "cell_type": "code",
   "execution_count": null,
   "metadata": {},
   "outputs": [],
   "source": [
    "plot_dgp_layers(m_deep, Xnew, training_points=True)"
   ]
  },
  {
   "cell_type": "code",
   "execution_count": null,
   "metadata": {},
   "outputs": [],
   "source": [
    "_, axs = plt.subplots(2,1, figsize=(14,12))\n",
    "\n",
    "samples = sample_dgp(m_deep, Xnew, 10, include_likelihood=True)\n",
    "for sample in samples:\n",
    "    axs[0].plot(Xnew, sample, 'go', alpha=0.2)\n",
    "axs[0].plot(X, y, 'kx', mew=2)\n",
    "axs[0].set_title(\"observable samples\")\n",
    "\n",
    "samples = sample_dgp(m_deep, Xnew, 100, include_likelihood=False)\n",
    "for sample in samples:\n",
    "    axs[1].plot(Xnew, sample, 'g-', alpha=0.1)\n",
    "axs[1].plot(X, y, 'kx', mew=2)\n",
    "axs[1].set_title(\"latent samples\")\n",
    "\n",
    "[(ax.set_xlabel(\"x\"), ax.set_ylabel(\"y\")) for ax in axs];"
   ]
  },
  {
   "cell_type": "markdown",
   "metadata": {},
   "source": [
    "### Plotting the Warping of Inputs\n",
    "\n"
   ]
  },
  {
   "cell_type": "code",
   "execution_count": null,
   "metadata": {},
   "outputs": [],
   "source": [
    "from matplotlib import transforms, cm\n",
    "\n",
    "def plot_dgp_warp(model, flip=False, cmapname='cividis'):\n",
    "    x_ = model.layers[-1].X.values\n",
    "    #x_ = np.linspace(np.min(X), np.max(X), 50)\n",
    "    chain = x_.copy()\n",
    "    for layer in reversed(model.layers):\n",
    "        mu, _ = layer.predict(x_)\n",
    "        chain = np.hstack([chain, mu])\n",
    "        x_    = mu\n",
    "    chain = chain[::(x_.shape[0]//50),:]\n",
    "    ll, ul = np.min(chain[:,0]), np.max(chain[:,0])\n",
    "    sc = ul - ll\n",
    "\n",
    "    cmap = cm.get_cmap(cmapname)\n",
    "\n",
    "    newchain = chain.copy()\n",
    "    for i in range(chain.shape[1]):\n",
    "        lll, lul = np.min(newchain[:,i]), np.max(newchain[:,i])\n",
    "        newchain[:,i] = ((newchain[:,i] - lll)/(lul-lll))*sc#ale\n",
    "\n",
    "    #fig, ax = plt.subplots()\n",
    "    ax = plt.gca()\n",
    "    [ax.plot(newchain[i,:], np.arange(newchain.shape[1]), '-', c=cmap(i/50), lw=0.5, alpha=0.5) for i in range(newchain.shape[0])];\n",
    "\n",
    "    ax2 = ax.twiny()\n",
    "    ax2.set_xlim([*map(lambda a: (a/sc*(lul-lll) + lll),ax.get_xlim())])\n",
    "    ax.set_yticks(np.arange(len(model.layers)+1)), ax.set_yticklabels(['input', *[layer.name for layer in reversed(model.layers)]]);\n",
    "    \n",
    "    ax.set_xlabel('t')\n",
    "    ax2.set_xlabel('y')\n",
    "    if flip:\n",
    "        ax.invert_yaxis()\n",
    "        ax.xaxis.set_ticks_position('top'), ax.xaxis.set_label_position('top')\n",
    "        ax2.xaxis.set_ticks_position('bottom'), ax2.xaxis.set_label_position('bottom')\n"
   ]
  },
  {
   "cell_type": "code",
   "execution_count": null,
   "metadata": {},
   "outputs": [],
   "source": [
    "plot_dgp_warp(m_deep, flip=True)"
   ]
  },
  {
   "cell_type": "code",
   "execution_count": null,
   "metadata": {},
   "outputs": [],
   "source": []
  }
 ],
 "metadata": {
  "kernelspec": {
   "display_name": "Python 3",
   "language": "python",
   "name": "python3"
  },
  "language_info": {
   "codemirror_mode": {
    "name": "ipython",
    "version": 3
   },
   "file_extension": ".py",
   "mimetype": "text/x-python",
   "name": "python",
   "nbconvert_exporter": "python",
   "pygments_lexer": "ipython3",
   "version": "3.7.3"
  }
 },
 "nbformat": 4,
 "nbformat_minor": 2
}
